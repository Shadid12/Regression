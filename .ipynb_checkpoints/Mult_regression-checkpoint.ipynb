{
 "cells": [
  {
   "cell_type": "code",
   "execution_count": 1,
   "metadata": {
    "collapsed": false
   },
   "outputs": [
    {
     "name": "stdout",
     "output_type": "stream",
     "text": [
      "This non-commercial license of GraphLab Create for academic use is assigned to shadidhaque2014@gmail.com and will expire on March 16, 2017.\n"
     ]
    },
    {
     "name": "stderr",
     "output_type": "stream",
     "text": [
      "[INFO] graphlab.cython.cy_server: GraphLab Create v2.1 started. Logging: C:\\Users\\IBM_AD~1\\AppData\\Local\\Temp\\graphlab_server_1471543646.log.0\n"
     ]
    }
   ],
   "source": [
    "import graphlab\n",
    "sales = graphlab.SFrame('data/kc_house_data.gl/')\n",
    "train_data,test_data = sales.random_split(.8,seed=0)"
   ]
  },
  {
   "cell_type": "code",
   "execution_count": 4,
   "metadata": {
    "collapsed": false
   },
   "outputs": [],
   "source": [
    "import numpy as np"
   ]
  },
  {
   "cell_type": "code",
   "execution_count": 9,
   "metadata": {
    "collapsed": false
   },
   "outputs": [
    {
     "name": "stdout",
     "output_type": "stream",
     "text": [
      "features:  ['constant', 'sqft_living']\n",
      "feature Sframe:  <bound method SFrame.to_numpy of Columns:\n",
      "\tconstant\tint\n",
      "\tsqft_living\tfloat\n",
      "\n",
      "Rows: 21613\n",
      "\n",
      "Data:\n",
      "+----------+-------------+\n",
      "| constant | sqft_living |\n",
      "+----------+-------------+\n",
      "|    1     |    1180.0   |\n",
      "|    1     |    2570.0   |\n",
      "|    1     |    770.0    |\n",
      "|    1     |    1960.0   |\n",
      "|    1     |    1680.0   |\n",
      "|    1     |    5420.0   |\n",
      "|    1     |    1715.0   |\n",
      "|    1     |    1060.0   |\n",
      "|    1     |    1780.0   |\n",
      "|    1     |    1890.0   |\n",
      "+----------+-------------+\n",
      "[21613 rows x 2 columns]\n",
      "Note: Only the head of the SFrame is printed.\n",
      "You can use print_rows(num_rows=m, num_columns=n) to print more rows and columns.>\n"
     ]
    }
   ],
   "source": [
    "data_sframe = sales\n",
    "data_sframe['constant'] = 1\n",
    "features = ['constant'] + ['sqft_living']\n",
    "print \"features: \", features\n",
    "features_sframe = data_sframe[features]\n",
    "print \"feature Sframe: \", features_sframe.to_numpy\n"
   ]
  },
  {
   "cell_type": "code",
   "execution_count": null,
   "metadata": {
    "collapsed": true
   },
   "outputs": [],
   "source": [
    "def get_numpy_data(sales, features, output):\n",
    "    sales['constant'] = 1\n",
    "#     features_extracted = (['constant'] + features)\n",
    "    features_sframe = sales((['constant'] + features))\n",
    "    reurn  features_sframe.to_numpy\n",
    "    "
   ]
  }
 ],
 "metadata": {
  "kernelspec": {
   "display_name": "Python 2",
   "language": "python",
   "name": "python2"
  },
  "language_info": {
   "codemirror_mode": {
    "name": "ipython",
    "version": 2
   },
   "file_extension": ".py",
   "mimetype": "text/x-python",
   "name": "python",
   "nbconvert_exporter": "python",
   "pygments_lexer": "ipython2",
   "version": "2.7.11"
  }
 },
 "nbformat": 4,
 "nbformat_minor": 0
}
